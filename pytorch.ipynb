{
 "cells": [
  {
   "cell_type": "markdown",
   "metadata": {},
   "source": [
    "# Pytorch Tutorial"
   ]
  },
  {
   "cell_type": "markdown",
   "metadata": {},
   "source": [
    "Pytorch is a popular deep learning framework and it's easy to get started."
   ]
  },
  {
   "cell_type": "code",
   "execution_count": 1,
   "metadata": {},
   "outputs": [],
   "source": [
    "import torch\n",
    "import torch.nn as nn\n",
    "import torch.utils.data as data\n",
    "import torchvision\n",
    "import torchvision.transforms as transforms\n",
    "from tqdm import tqdm\n",
    "import time\n",
    "\n",
    "BATCH_SIZE = 128\n",
    "NUM_EPOCHS = 10"
   ]
  },
  {
   "cell_type": "markdown",
   "metadata": {},
   "source": [
    "First, we read the mnist data, preprocess them and encapsulate them into dataloader form."
   ]
  },
  {
   "cell_type": "code",
   "execution_count": 2,
   "metadata": {},
   "outputs": [],
   "source": [
    "# preprocessing\n",
    "normalize = transforms.Normalize(mean=[.5], std=[.5])\n",
    "transform = transforms.Compose([transforms.ToTensor(), normalize])\n",
    "\n",
    "# download and load the data\n",
    "train_dataset = torchvision.datasets.MNIST(root='./mnist/', train=True, transform=transform, download=True)\n",
    "test_dataset = torchvision.datasets.MNIST(root='./mnist/', train=False, transform=transform, download=False)\n",
    "\n",
    "# encapsulate them into dataloader form\n",
    "train_loader = data.DataLoader(train_dataset, batch_size=BATCH_SIZE, shuffle=True, drop_last=True)\n",
    "test_loader = data.DataLoader(test_dataset, batch_size=BATCH_SIZE, shuffle=False, drop_last=True)"
   ]
  },
  {
   "cell_type": "markdown",
   "metadata": {},
   "source": [
    "Then, we define the model, object function and optimizer that we use to classify."
   ]
  },
  {
   "cell_type": "code",
   "execution_count": 3,
   "metadata": {},
   "outputs": [],
   "source": [
    "class SimpleNet(nn.Module):\n",
    "# TODO:define model\n",
    "    def __init__(self):\n",
    "        super(SimpleNet, self).__init__()\n",
    "        self.conv1 = nn.Sequential(     #input_size=(1*28*28)\n",
    "            nn.Conv2d(1, 6, 5, 1, 2), #padding=2保证输入输出尺寸相同\n",
    "            nn.ReLU(),      #input_size=(6*28*28)\n",
    "            nn.MaxPool2d(kernel_size=2, stride=2),#output_size=(6*14*14)\n",
    "        )\n",
    "        self.conv2 = nn.Sequential(\n",
    "            nn.Conv2d(6, 16, 5),\n",
    "            nn.ReLU(),      #input_size=(16*10*10)\n",
    "            nn.MaxPool2d(2, 2)  #output_size=(16*5*5)\n",
    "        )\n",
    "        self.fc1 = nn.Sequential(\n",
    "            nn.Linear(16 * 5 * 5, 120),\n",
    "            nn.ReLU()\n",
    "        )\n",
    "        self.fc2 = nn.Sequential(\n",
    "            nn.Linear(120, 84),\n",
    "            nn.ReLU()\n",
    "        )\n",
    "        self.fc3 = nn.Linear(84, 10)\n",
    "\n",
    "    # 定义前向传播过程，输入为x\n",
    "    def forward(self, x):\n",
    "        x = self.conv1(x)\n",
    "        x = self.conv2(x)\n",
    "        # nn.Linear()的输入输出都是维度为一的值，所以要把多维度的tensor展平成一维\n",
    "        x = x.view(x.size()[0], -1)\n",
    "        x = self.fc1(x)\n",
    "        x = self.fc2(x)\n",
    "        x = self.fc3(x)\n",
    "        return x\n",
    "\n",
    "\n",
    "    \n",
    "model = SimpleNet()\n",
    "\n",
    "# TODO:define loss function and optimiter\n",
    "criterion = nn.CrossEntropyLoss()\n",
    "optimizer = torch.optim.Adam(model.parameters(), lr=0.001, betas=(0.9, 0.99))"
   ]
  },
  {
   "cell_type": "markdown",
   "metadata": {},
   "source": [
    "Next, we can start to train and evaluate!"
   ]
  },
  {
   "cell_type": "code",
   "execution_count": 5,
   "metadata": {
    "scrolled": true
   },
   "outputs": [
    {
     "name": "stderr",
     "output_type": "stream",
     "text": [
      "100%|████████████████████████████████████████████████████████████████████████████████| 468/468 [00:19<00:00, 24.60it/s]\n",
      "100%|████████████████████████████████████████████████████████████████████████████████| 468/468 [00:14<00:00, 32.69it/s]\n",
      "100%|██████████████████████████████████████████████████████████████████████████████████| 78/78 [00:02<00:00, 33.17it/s]\n",
      "  0%|▎                                                                                 | 2/468 [00:00<00:23, 19.58it/s]"
     ]
    },
    {
     "name": "stdout",
     "output_type": "stream",
     "text": [
      "train_acc tensor(0.9792)\n",
      "test_acc tensor(0.9810)\n"
     ]
    },
    {
     "name": "stderr",
     "output_type": "stream",
     "text": [
      "100%|████████████████████████████████████████████████████████████████████████████████| 468/468 [00:20<00:00, 22.32it/s]\n",
      "100%|████████████████████████████████████████████████████████████████████████████████| 468/468 [00:14<00:00, 32.93it/s]\n",
      "100%|██████████████████████████████████████████████████████████████████████████████████| 78/78 [00:02<00:00, 32.34it/s]\n",
      "  1%|▌                                                                                 | 3/468 [00:00<00:20, 22.72it/s]"
     ]
    },
    {
     "name": "stdout",
     "output_type": "stream",
     "text": [
      "train_acc tensor(0.9833)\n",
      "test_acc tensor(0.9824)\n"
     ]
    },
    {
     "name": "stderr",
     "output_type": "stream",
     "text": [
      "100%|████████████████████████████████████████████████████████████████████████████████| 468/468 [00:20<00:00, 23.15it/s]\n",
      "100%|████████████████████████████████████████████████████████████████████████████████| 468/468 [00:14<00:00, 32.68it/s]\n",
      "100%|██████████████████████████████████████████████████████████████████████████████████| 78/78 [00:02<00:00, 29.31it/s]\n",
      "  1%|▌                                                                                 | 3/468 [00:00<00:21, 21.24it/s]"
     ]
    },
    {
     "name": "stdout",
     "output_type": "stream",
     "text": [
      "train_acc tensor(0.9871)\n",
      "test_acc tensor(0.9840)\n"
     ]
    },
    {
     "name": "stderr",
     "output_type": "stream",
     "text": [
      "100%|████████████████████████████████████████████████████████████████████████████████| 468/468 [00:20<00:00, 22.93it/s]\n",
      "100%|████████████████████████████████████████████████████████████████████████████████| 468/468 [00:14<00:00, 32.56it/s]\n",
      "100%|██████████████████████████████████████████████████████████████████████████████████| 78/78 [00:02<00:00, 32.32it/s]\n",
      "  1%|▌                                                                                 | 3/468 [00:00<00:20, 22.93it/s]"
     ]
    },
    {
     "name": "stdout",
     "output_type": "stream",
     "text": [
      "train_acc tensor(0.9888)\n",
      "test_acc tensor(0.9862)\n"
     ]
    },
    {
     "name": "stderr",
     "output_type": "stream",
     "text": [
      "100%|████████████████████████████████████████████████████████████████████████████████| 468/468 [00:20<00:00, 22.95it/s]\n",
      "100%|████████████████████████████████████████████████████████████████████████████████| 468/468 [00:14<00:00, 31.40it/s]\n",
      "100%|██████████████████████████████████████████████████████████████████████████████████| 78/78 [00:02<00:00, 30.06it/s]\n",
      "  1%|▌                                                                                 | 3/468 [00:00<00:21, 21.49it/s]"
     ]
    },
    {
     "name": "stdout",
     "output_type": "stream",
     "text": [
      "train_acc tensor(0.9915)\n",
      "test_acc tensor(0.9863)\n"
     ]
    },
    {
     "name": "stderr",
     "output_type": "stream",
     "text": [
      "100%|████████████████████████████████████████████████████████████████████████████████| 468/468 [00:20<00:00, 22.95it/s]\n",
      "100%|████████████████████████████████████████████████████████████████████████████████| 468/468 [00:14<00:00, 33.24it/s]\n",
      "100%|██████████████████████████████████████████████████████████████████████████████████| 78/78 [00:02<00:00, 31.16it/s]\n",
      "  1%|▌                                                                                 | 3/468 [00:00<00:19, 24.22it/s]"
     ]
    },
    {
     "name": "stdout",
     "output_type": "stream",
     "text": [
      "train_acc tensor(0.9915)\n",
      "test_acc tensor(0.9854)\n"
     ]
    },
    {
     "name": "stderr",
     "output_type": "stream",
     "text": [
      "100%|████████████████████████████████████████████████████████████████████████████████| 468/468 [00:20<00:00, 22.86it/s]\n",
      "100%|████████████████████████████████████████████████████████████████████████████████| 468/468 [00:14<00:00, 33.00it/s]\n",
      "100%|██████████████████████████████████████████████████████████████████████████████████| 78/78 [00:02<00:00, 29.57it/s]\n",
      "  1%|▌                                                                                 | 3/468 [00:00<00:21, 21.59it/s]"
     ]
    },
    {
     "name": "stdout",
     "output_type": "stream",
     "text": [
      "train_acc tensor(0.9937)\n",
      "test_acc tensor(0.9881)\n"
     ]
    },
    {
     "name": "stderr",
     "output_type": "stream",
     "text": [
      "100%|████████████████████████████████████████████████████████████████████████████████| 468/468 [00:22<00:00, 20.39it/s]\n",
      "100%|████████████████████████████████████████████████████████████████████████████████| 468/468 [00:16<00:00, 28.35it/s]\n",
      "100%|██████████████████████████████████████████████████████████████████████████████████| 78/78 [00:02<00:00, 28.48it/s]\n",
      "  1%|▌                                                                                 | 3/468 [00:00<00:22, 20.92it/s]"
     ]
    },
    {
     "name": "stdout",
     "output_type": "stream",
     "text": [
      "train_acc tensor(0.9900)\n",
      "test_acc tensor(0.9831)\n"
     ]
    },
    {
     "name": "stderr",
     "output_type": "stream",
     "text": [
      "100%|████████████████████████████████████████████████████████████████████████████████| 468/468 [00:21<00:00, 21.75it/s]\n",
      "100%|████████████████████████████████████████████████████████████████████████████████| 468/468 [00:14<00:00, 32.92it/s]\n",
      "100%|██████████████████████████████████████████████████████████████████████████████████| 78/78 [00:02<00:00, 32.92it/s]\n",
      "  1%|▌                                                                                 | 3/468 [00:00<00:18, 24.72it/s]"
     ]
    },
    {
     "name": "stdout",
     "output_type": "stream",
     "text": [
      "train_acc tensor(0.9942)\n",
      "test_acc tensor(0.9885)\n"
     ]
    },
    {
     "name": "stderr",
     "output_type": "stream",
     "text": [
      "100%|████████████████████████████████████████████████████████████████████████████████| 468/468 [00:20<00:00, 22.87it/s]\n",
      "100%|████████████████████████████████████████████████████████████████████████████████| 468/468 [00:14<00:00, 32.04it/s]\n",
      "100%|██████████████████████████████████████████████████████████████████████████████████| 78/78 [00:02<00:00, 33.00it/s]"
     ]
    },
    {
     "name": "stdout",
     "output_type": "stream",
     "text": [
      "train_acc tensor(0.9961)\n",
      "test_acc tensor(0.9878)\n"
     ]
    },
    {
     "name": "stderr",
     "output_type": "stream",
     "text": [
      "\n"
     ]
    }
   ],
   "source": [
    "# train and evaluate\n",
    "for epoch in range(NUM_EPOCHS):\n",
    "    model.train()\n",
    "    for images, labels in tqdm(train_loader):\n",
    "        # TODO:forward + backward + optimize\n",
    "        optimizer.zero_grad()\n",
    "        output=model(images)\n",
    "        loss = criterion(output,labels)\n",
    "        loss.backward()\n",
    "        optimizer.step()\n",
    "        \n",
    "        \n",
    "    # evaluate\n",
    "    # TODO:calculate the accuracy using traning and testing dataset\n",
    "    correct = 0 \n",
    "    model.eval()\n",
    "    for images, labels in tqdm(train_loader):\n",
    "        output=model(images)\n",
    "        _, pred = torch.max(output.data, 1)\n",
    "        correct += (pred==labels).sum()\n",
    "    train_acc = correct / len(train_loader.dataset)\n",
    "    correct = 0 \n",
    "    model.eval()\n",
    "    for images, labels in tqdm(test_loader):\n",
    "        output=model(images)\n",
    "        _, pred = torch.max(output.data, 1)\n",
    "        correct += (pred==labels).sum()\n",
    "    test_acc = correct / len(test_loader.dataset)\n",
    "    print('train_acc',train_acc)\n",
    "    print('test_acc',test_acc)\n",
    "    \n"
   ]
  },
  {
   "cell_type": "markdown",
   "metadata": {},
   "source": [
    "#### Q5:\n",
    "Please print the training and testing accuracy."
   ]
  }
 ],
 "metadata": {
  "kernelspec": {
   "display_name": "Python 3",
   "language": "python",
   "name": "python3"
  },
  "language_info": {
   "codemirror_mode": {
    "name": "ipython",
    "version": 3
   },
   "file_extension": ".py",
   "mimetype": "text/x-python",
   "name": "python",
   "nbconvert_exporter": "python",
   "pygments_lexer": "ipython3",
   "version": "3.7.4"
  }
 },
 "nbformat": 4,
 "nbformat_minor": 2
}
